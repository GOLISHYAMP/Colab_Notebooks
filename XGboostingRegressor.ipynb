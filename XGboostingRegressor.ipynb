{
  "nbformat": 4,
  "nbformat_minor": 0,
  "metadata": {
    "colab": {
      "provenance": [],
      "mount_file_id": "1ib2n3sP1nsNJw0Q1CkIZ4mL5EZzuAWvr",
      "authorship_tag": "ABX9TyOa+UR3LPTjvb2J/2v/tr3X",
      "include_colab_link": true
    },
    "kernelspec": {
      "name": "python3",
      "display_name": "Python 3"
    },
    "language_info": {
      "name": "python"
    }
  },
  "cells": [
    {
      "cell_type": "markdown",
      "metadata": {
        "id": "view-in-github",
        "colab_type": "text"
      },
      "source": [
        "<a href=\"https://colab.research.google.com/github/GOLISHYAMP/Colab_Notebooks/blob/main/XGboostingRegressor.ipynb\" target=\"_parent\"><img src=\"https://colab.research.google.com/assets/colab-badge.svg\" alt=\"Open In Colab\"/></a>"
      ]
    },
    {
      "cell_type": "markdown",
      "metadata": {
        "id": "nJBdDWR4uDP1"
      },
      "source": [
        "# **Car Price Prediction**\n",
        "\n",
        "The used car market in India is a dynamic and ever-changing landscape. Prices can fluctuate wildly based on a variety of factors including the make and model of the car, its mileage, its condition and the current market conditions. As a result, it can be difficult for sellers to accurately price their cars.\n",
        "\n",
        "This dataset contains information about used cars.\\\n",
        "This data can be used for a lot of purposes such as Used Car Price Prediction using different Machine Learning Techniques.\n",
        "\n",
        "Data Description (Feature Information)\n",
        "\n",
        "car_name: Car's Full name, which includes brand and specific model name.\\\n",
        "brand: Brand Name of the particular car.\\\n",
        "model: Exact model name of the car of a particular brand.\\\n",
        "seller_type: Which Type of seller is selling the used car\\\n",
        "fuel_type: Fuel used in the used car, which was put up on sale.\\\n",
        "transmission_type: Transmission used in the used car, which was put on sale.\\\n",
        "vehicle_age: The count of years since car was bought.\\\n",
        "mileage: It is the number of kilometer the car runs per litre.\\\n",
        "engine: It is the engine capacity in cc(cubic centimeters)\\\n",
        "max_power: Max power it produces in BHP.\\\n",
        "seats: Total number of seats in car.\\\n",
        "selling_price: The sale price which was put up on website."
      ]
    },
    {
      "cell_type": "code",
      "execution_count": 1,
      "metadata": {
        "id": "h98XO-kBrEGO"
      },
      "outputs": [],
      "source": [
        "import numpy as np\n",
        "import pandas as pd\n",
        "import seaborn as sns\n",
        "import matplotlib.pyplot as plt"
      ]
    },
    {
      "cell_type": "code",
      "execution_count": 2,
      "metadata": {
        "id": "-k82RzaxuIIz"
      },
      "outputs": [],
      "source": [
        "df = pd.read_csv('/content/drive/MyDrive/Datasets/Cleaned_Cardekho_dataset.csv')"
      ]
    },
    {
      "cell_type": "code",
      "execution_count": 3,
      "metadata": {
        "colab": {
          "base_uri": "https://localhost:8080/"
        },
        "id": "5GKbXUS0u41H",
        "outputId": "352e4bbf-7c92-446d-fbe2-ea409bf470d6"
      },
      "outputs": [
        {
          "output_type": "execute_result",
          "data": {
            "text/plain": [
              "Index(['Unnamed: 0', 'model', 'vehicle_age', 'km_driven', 'seller_type',\n",
              "       'fuel_type', 'transmission_type', 'mileage', 'engine', 'max_power',\n",
              "       'seats', 'selling_price'],\n",
              "      dtype='object')"
            ]
          },
          "metadata": {},
          "execution_count": 3
        }
      ],
      "source": [
        "df.columns"
      ]
    },
    {
      "cell_type": "code",
      "execution_count": 4,
      "metadata": {
        "id": "tOFz3wwou-0U"
      },
      "outputs": [],
      "source": [
        "df.drop('Unnamed: 0', axis = 1, inplace=True)"
      ]
    },
    {
      "cell_type": "code",
      "execution_count": 5,
      "metadata": {
        "colab": {
          "base_uri": "https://localhost:8080/"
        },
        "id": "srZZGTeFvxYZ",
        "outputId": "908910f4-8b70-4de6-d285-c2814661df56"
      },
      "outputs": [
        {
          "output_type": "execute_result",
          "data": {
            "text/plain": [
              "['vehicle_age', 'km_driven', 'mileage', 'engine', 'max_power', 'seats']"
            ]
          },
          "metadata": {},
          "execution_count": 5
        }
      ],
      "source": [
        "continuous_features = [feature for feature in df.columns if df.dtypes[feature] != 'O'][:-1]\n",
        "continuous_features"
      ]
    },
    {
      "cell_type": "code",
      "execution_count": 6,
      "metadata": {
        "colab": {
          "base_uri": "https://localhost:8080/"
        },
        "id": "izhuVUkGv2KJ",
        "outputId": "d788c800-34f0-4900-b2c4-3a86e0084b97"
      },
      "outputs": [
        {
          "output_type": "execute_result",
          "data": {
            "text/plain": [
              "['model', 'seller_type', 'fuel_type', 'transmission_type']"
            ]
          },
          "metadata": {},
          "execution_count": 6
        }
      ],
      "source": [
        "categorical_features = [feature for feature in df.columns if df.dtypes[feature] == 'O']\n",
        "categorical_features"
      ]
    },
    {
      "cell_type": "code",
      "execution_count": 7,
      "metadata": {
        "id": "47kSCVFJvVuz"
      },
      "outputs": [],
      "source": [
        "X = df.drop('selling_price', axis = 1)\n",
        "y = df['selling_price']"
      ]
    },
    {
      "cell_type": "code",
      "execution_count": 8,
      "metadata": {
        "id": "QjZ9cHT_vGDl"
      },
      "outputs": [],
      "source": [
        "from sklearn.preprocessing import LabelEncoder\n",
        "LE = LabelEncoder()\n",
        "X['model'] = LE.fit_transform(X['model'])"
      ]
    },
    {
      "cell_type": "code",
      "execution_count": 9,
      "metadata": {
        "id": "33EAVKiavMT2"
      },
      "outputs": [],
      "source": [
        "#Train Test split\n",
        "from sklearn.model_selection import train_test_split\n",
        "X_train, X_test, y_train, y_test = train_test_split(X, y, test_size=0.2, random_state=31)"
      ]
    },
    {
      "cell_type": "code",
      "execution_count": 10,
      "metadata": {
        "id": "yY0Ac12RvZtv"
      },
      "outputs": [],
      "source": [
        "from sklearn.preprocessing import  OneHotEncoder, StandardScaler\n",
        "from sklearn.compose import ColumnTransformer\n",
        "SC = StandardScaler()\n",
        "\n",
        "OHE = OneHotEncoder(drop = 'first')\n",
        "\n",
        "ct = ColumnTransformer(\n",
        "    [\n",
        "        ('StandardScaler', SC, continuous_features),\n",
        "        ('OneHotEncoder', OHE, categorical_features[1:]),\n",
        "    ], remainder='passthrough',\n",
        ")"
      ]
    },
    {
      "cell_type": "code",
      "execution_count": 11,
      "metadata": {
        "colab": {
          "base_uri": "https://localhost:8080/",
          "height": 226
        },
        "id": "zXOw9tfeve4q",
        "outputId": "657c9edd-524e-456d-d49b-6a654ec5c2df"
      },
      "outputs": [
        {
          "output_type": "execute_result",
          "data": {
            "text/plain": [
              "       model  vehicle_age  km_driven seller_type fuel_type transmission_type  \\\n",
              "11464     98            5      61000      Dealer    Diesel            Manual   \n",
              "10982      3            8      89000      Dealer    Diesel         Automatic   \n",
              "207       25            3      25000  Individual    Petrol            Manual   \n",
              "9569      32            8      51235      Dealer    Diesel            Manual   \n",
              "1061     118            3      50000  Individual    Petrol            Manual   \n",
              "\n",
              "       mileage  engine  max_power  seats  \n",
              "11464    24.30    1248      88.50      5  \n",
              "10982    14.49    2993     258.00      5  \n",
              "207      17.40    1497     117.30      5  \n",
              "9569     19.01    1461     108.45      5  \n",
              "1061     18.60    1197      81.83      5  "
            ],
            "text/html": [
              "\n",
              "  <div id=\"df-ca5000b1-bfa9-4c2b-b3ee-d38f4da2210d\" class=\"colab-df-container\">\n",
              "    <div>\n",
              "<style scoped>\n",
              "    .dataframe tbody tr th:only-of-type {\n",
              "        vertical-align: middle;\n",
              "    }\n",
              "\n",
              "    .dataframe tbody tr th {\n",
              "        vertical-align: top;\n",
              "    }\n",
              "\n",
              "    .dataframe thead th {\n",
              "        text-align: right;\n",
              "    }\n",
              "</style>\n",
              "<table border=\"1\" class=\"dataframe\">\n",
              "  <thead>\n",
              "    <tr style=\"text-align: right;\">\n",
              "      <th></th>\n",
              "      <th>model</th>\n",
              "      <th>vehicle_age</th>\n",
              "      <th>km_driven</th>\n",
              "      <th>seller_type</th>\n",
              "      <th>fuel_type</th>\n",
              "      <th>transmission_type</th>\n",
              "      <th>mileage</th>\n",
              "      <th>engine</th>\n",
              "      <th>max_power</th>\n",
              "      <th>seats</th>\n",
              "    </tr>\n",
              "  </thead>\n",
              "  <tbody>\n",
              "    <tr>\n",
              "      <th>11464</th>\n",
              "      <td>98</td>\n",
              "      <td>5</td>\n",
              "      <td>61000</td>\n",
              "      <td>Dealer</td>\n",
              "      <td>Diesel</td>\n",
              "      <td>Manual</td>\n",
              "      <td>24.30</td>\n",
              "      <td>1248</td>\n",
              "      <td>88.50</td>\n",
              "      <td>5</td>\n",
              "    </tr>\n",
              "    <tr>\n",
              "      <th>10982</th>\n",
              "      <td>3</td>\n",
              "      <td>8</td>\n",
              "      <td>89000</td>\n",
              "      <td>Dealer</td>\n",
              "      <td>Diesel</td>\n",
              "      <td>Automatic</td>\n",
              "      <td>14.49</td>\n",
              "      <td>2993</td>\n",
              "      <td>258.00</td>\n",
              "      <td>5</td>\n",
              "    </tr>\n",
              "    <tr>\n",
              "      <th>207</th>\n",
              "      <td>25</td>\n",
              "      <td>3</td>\n",
              "      <td>25000</td>\n",
              "      <td>Individual</td>\n",
              "      <td>Petrol</td>\n",
              "      <td>Manual</td>\n",
              "      <td>17.40</td>\n",
              "      <td>1497</td>\n",
              "      <td>117.30</td>\n",
              "      <td>5</td>\n",
              "    </tr>\n",
              "    <tr>\n",
              "      <th>9569</th>\n",
              "      <td>32</td>\n",
              "      <td>8</td>\n",
              "      <td>51235</td>\n",
              "      <td>Dealer</td>\n",
              "      <td>Diesel</td>\n",
              "      <td>Manual</td>\n",
              "      <td>19.01</td>\n",
              "      <td>1461</td>\n",
              "      <td>108.45</td>\n",
              "      <td>5</td>\n",
              "    </tr>\n",
              "    <tr>\n",
              "      <th>1061</th>\n",
              "      <td>118</td>\n",
              "      <td>3</td>\n",
              "      <td>50000</td>\n",
              "      <td>Individual</td>\n",
              "      <td>Petrol</td>\n",
              "      <td>Manual</td>\n",
              "      <td>18.60</td>\n",
              "      <td>1197</td>\n",
              "      <td>81.83</td>\n",
              "      <td>5</td>\n",
              "    </tr>\n",
              "  </tbody>\n",
              "</table>\n",
              "</div>\n",
              "    <div class=\"colab-df-buttons\">\n",
              "\n",
              "  <div class=\"colab-df-container\">\n",
              "    <button class=\"colab-df-convert\" onclick=\"convertToInteractive('df-ca5000b1-bfa9-4c2b-b3ee-d38f4da2210d')\"\n",
              "            title=\"Convert this dataframe to an interactive table.\"\n",
              "            style=\"display:none;\">\n",
              "\n",
              "  <svg xmlns=\"http://www.w3.org/2000/svg\" height=\"24px\" viewBox=\"0 -960 960 960\">\n",
              "    <path d=\"M120-120v-720h720v720H120Zm60-500h600v-160H180v160Zm220 220h160v-160H400v160Zm0 220h160v-160H400v160ZM180-400h160v-160H180v160Zm440 0h160v-160H620v160ZM180-180h160v-160H180v160Zm440 0h160v-160H620v160Z\"/>\n",
              "  </svg>\n",
              "    </button>\n",
              "\n",
              "  <style>\n",
              "    .colab-df-container {\n",
              "      display:flex;\n",
              "      gap: 12px;\n",
              "    }\n",
              "\n",
              "    .colab-df-convert {\n",
              "      background-color: #E8F0FE;\n",
              "      border: none;\n",
              "      border-radius: 50%;\n",
              "      cursor: pointer;\n",
              "      display: none;\n",
              "      fill: #1967D2;\n",
              "      height: 32px;\n",
              "      padding: 0 0 0 0;\n",
              "      width: 32px;\n",
              "    }\n",
              "\n",
              "    .colab-df-convert:hover {\n",
              "      background-color: #E2EBFA;\n",
              "      box-shadow: 0px 1px 2px rgba(60, 64, 67, 0.3), 0px 1px 3px 1px rgba(60, 64, 67, 0.15);\n",
              "      fill: #174EA6;\n",
              "    }\n",
              "\n",
              "    .colab-df-buttons div {\n",
              "      margin-bottom: 4px;\n",
              "    }\n",
              "\n",
              "    [theme=dark] .colab-df-convert {\n",
              "      background-color: #3B4455;\n",
              "      fill: #D2E3FC;\n",
              "    }\n",
              "\n",
              "    [theme=dark] .colab-df-convert:hover {\n",
              "      background-color: #434B5C;\n",
              "      box-shadow: 0px 1px 3px 1px rgba(0, 0, 0, 0.15);\n",
              "      filter: drop-shadow(0px 1px 2px rgba(0, 0, 0, 0.3));\n",
              "      fill: #FFFFFF;\n",
              "    }\n",
              "  </style>\n",
              "\n",
              "    <script>\n",
              "      const buttonEl =\n",
              "        document.querySelector('#df-ca5000b1-bfa9-4c2b-b3ee-d38f4da2210d button.colab-df-convert');\n",
              "      buttonEl.style.display =\n",
              "        google.colab.kernel.accessAllowed ? 'block' : 'none';\n",
              "\n",
              "      async function convertToInteractive(key) {\n",
              "        const element = document.querySelector('#df-ca5000b1-bfa9-4c2b-b3ee-d38f4da2210d');\n",
              "        const dataTable =\n",
              "          await google.colab.kernel.invokeFunction('convertToInteractive',\n",
              "                                                    [key], {});\n",
              "        if (!dataTable) return;\n",
              "\n",
              "        const docLinkHtml = 'Like what you see? Visit the ' +\n",
              "          '<a target=\"_blank\" href=https://colab.research.google.com/notebooks/data_table.ipynb>data table notebook</a>'\n",
              "          + ' to learn more about interactive tables.';\n",
              "        element.innerHTML = '';\n",
              "        dataTable['output_type'] = 'display_data';\n",
              "        await google.colab.output.renderOutput(dataTable, element);\n",
              "        const docLink = document.createElement('div');\n",
              "        docLink.innerHTML = docLinkHtml;\n",
              "        element.appendChild(docLink);\n",
              "      }\n",
              "    </script>\n",
              "  </div>\n",
              "\n",
              "\n",
              "<div id=\"df-a8999510-f563-4e15-ac4c-9cb3c174c6a6\">\n",
              "  <button class=\"colab-df-quickchart\" onclick=\"quickchart('df-a8999510-f563-4e15-ac4c-9cb3c174c6a6')\"\n",
              "            title=\"Suggest charts\"\n",
              "            style=\"display:none;\">\n",
              "\n",
              "<svg xmlns=\"http://www.w3.org/2000/svg\" height=\"24px\"viewBox=\"0 0 24 24\"\n",
              "     width=\"24px\">\n",
              "    <g>\n",
              "        <path d=\"M19 3H5c-1.1 0-2 .9-2 2v14c0 1.1.9 2 2 2h14c1.1 0 2-.9 2-2V5c0-1.1-.9-2-2-2zM9 17H7v-7h2v7zm4 0h-2V7h2v10zm4 0h-2v-4h2v4z\"/>\n",
              "    </g>\n",
              "</svg>\n",
              "  </button>\n",
              "\n",
              "<style>\n",
              "  .colab-df-quickchart {\n",
              "      --bg-color: #E8F0FE;\n",
              "      --fill-color: #1967D2;\n",
              "      --hover-bg-color: #E2EBFA;\n",
              "      --hover-fill-color: #174EA6;\n",
              "      --disabled-fill-color: #AAA;\n",
              "      --disabled-bg-color: #DDD;\n",
              "  }\n",
              "\n",
              "  [theme=dark] .colab-df-quickchart {\n",
              "      --bg-color: #3B4455;\n",
              "      --fill-color: #D2E3FC;\n",
              "      --hover-bg-color: #434B5C;\n",
              "      --hover-fill-color: #FFFFFF;\n",
              "      --disabled-bg-color: #3B4455;\n",
              "      --disabled-fill-color: #666;\n",
              "  }\n",
              "\n",
              "  .colab-df-quickchart {\n",
              "    background-color: var(--bg-color);\n",
              "    border: none;\n",
              "    border-radius: 50%;\n",
              "    cursor: pointer;\n",
              "    display: none;\n",
              "    fill: var(--fill-color);\n",
              "    height: 32px;\n",
              "    padding: 0;\n",
              "    width: 32px;\n",
              "  }\n",
              "\n",
              "  .colab-df-quickchart:hover {\n",
              "    background-color: var(--hover-bg-color);\n",
              "    box-shadow: 0 1px 2px rgba(60, 64, 67, 0.3), 0 1px 3px 1px rgba(60, 64, 67, 0.15);\n",
              "    fill: var(--button-hover-fill-color);\n",
              "  }\n",
              "\n",
              "  .colab-df-quickchart-complete:disabled,\n",
              "  .colab-df-quickchart-complete:disabled:hover {\n",
              "    background-color: var(--disabled-bg-color);\n",
              "    fill: var(--disabled-fill-color);\n",
              "    box-shadow: none;\n",
              "  }\n",
              "\n",
              "  .colab-df-spinner {\n",
              "    border: 2px solid var(--fill-color);\n",
              "    border-color: transparent;\n",
              "    border-bottom-color: var(--fill-color);\n",
              "    animation:\n",
              "      spin 1s steps(1) infinite;\n",
              "  }\n",
              "\n",
              "  @keyframes spin {\n",
              "    0% {\n",
              "      border-color: transparent;\n",
              "      border-bottom-color: var(--fill-color);\n",
              "      border-left-color: var(--fill-color);\n",
              "    }\n",
              "    20% {\n",
              "      border-color: transparent;\n",
              "      border-left-color: var(--fill-color);\n",
              "      border-top-color: var(--fill-color);\n",
              "    }\n",
              "    30% {\n",
              "      border-color: transparent;\n",
              "      border-left-color: var(--fill-color);\n",
              "      border-top-color: var(--fill-color);\n",
              "      border-right-color: var(--fill-color);\n",
              "    }\n",
              "    40% {\n",
              "      border-color: transparent;\n",
              "      border-right-color: var(--fill-color);\n",
              "      border-top-color: var(--fill-color);\n",
              "    }\n",
              "    60% {\n",
              "      border-color: transparent;\n",
              "      border-right-color: var(--fill-color);\n",
              "    }\n",
              "    80% {\n",
              "      border-color: transparent;\n",
              "      border-right-color: var(--fill-color);\n",
              "      border-bottom-color: var(--fill-color);\n",
              "    }\n",
              "    90% {\n",
              "      border-color: transparent;\n",
              "      border-bottom-color: var(--fill-color);\n",
              "    }\n",
              "  }\n",
              "</style>\n",
              "\n",
              "  <script>\n",
              "    async function quickchart(key) {\n",
              "      const quickchartButtonEl =\n",
              "        document.querySelector('#' + key + ' button');\n",
              "      quickchartButtonEl.disabled = true;  // To prevent multiple clicks.\n",
              "      quickchartButtonEl.classList.add('colab-df-spinner');\n",
              "      try {\n",
              "        const charts = await google.colab.kernel.invokeFunction(\n",
              "            'suggestCharts', [key], {});\n",
              "      } catch (error) {\n",
              "        console.error('Error during call to suggestCharts:', error);\n",
              "      }\n",
              "      quickchartButtonEl.classList.remove('colab-df-spinner');\n",
              "      quickchartButtonEl.classList.add('colab-df-quickchart-complete');\n",
              "    }\n",
              "    (() => {\n",
              "      let quickchartButtonEl =\n",
              "        document.querySelector('#df-a8999510-f563-4e15-ac4c-9cb3c174c6a6 button');\n",
              "      quickchartButtonEl.style.display =\n",
              "        google.colab.kernel.accessAllowed ? 'block' : 'none';\n",
              "    })();\n",
              "  </script>\n",
              "</div>\n",
              "\n",
              "    </div>\n",
              "  </div>\n"
            ],
            "application/vnd.google.colaboratory.intrinsic+json": {
              "type": "dataframe",
              "variable_name": "X_train",
              "summary": "{\n  \"name\": \"X_train\",\n  \"rows\": 12328,\n  \"fields\": [\n    {\n      \"column\": \"model\",\n      \"properties\": {\n        \"dtype\": \"number\",\n        \"std\": 36,\n        \"min\": 0,\n        \"max\": 119,\n        \"num_unique_values\": 119,\n        \"samples\": [\n          68,\n          37,\n          118\n        ],\n        \"semantic_type\": \"\",\n        \"description\": \"\"\n      }\n    },\n    {\n      \"column\": \"vehicle_age\",\n      \"properties\": {\n        \"dtype\": \"number\",\n        \"std\": 3,\n        \"min\": 0,\n        \"max\": 25,\n        \"num_unique_values\": 23,\n        \"samples\": [\n          18,\n          12,\n          5\n        ],\n        \"semantic_type\": \"\",\n        \"description\": \"\"\n      }\n    },\n    {\n      \"column\": \"km_driven\",\n      \"properties\": {\n        \"dtype\": \"number\",\n        \"std\": 42661,\n        \"min\": 100,\n        \"max\": 1325000,\n        \"num_unique_values\": 3054,\n        \"samples\": [\n          81544,\n          52532,\n          49134\n        ],\n        \"semantic_type\": \"\",\n        \"description\": \"\"\n      }\n    },\n    {\n      \"column\": \"seller_type\",\n      \"properties\": {\n        \"dtype\": \"category\",\n        \"num_unique_values\": 3,\n        \"samples\": [\n          \"Dealer\",\n          \"Individual\",\n          \"Trustmark Dealer\"\n        ],\n        \"semantic_type\": \"\",\n        \"description\": \"\"\n      }\n    },\n    {\n      \"column\": \"fuel_type\",\n      \"properties\": {\n        \"dtype\": \"category\",\n        \"num_unique_values\": 5,\n        \"samples\": [\n          \"Petrol\",\n          \"Electric\",\n          \"CNG\"\n        ],\n        \"semantic_type\": \"\",\n        \"description\": \"\"\n      }\n    },\n    {\n      \"column\": \"transmission_type\",\n      \"properties\": {\n        \"dtype\": \"category\",\n        \"num_unique_values\": 2,\n        \"samples\": [\n          \"Automatic\",\n          \"Manual\"\n        ],\n        \"semantic_type\": \"\",\n        \"description\": \"\"\n      }\n    },\n    {\n      \"column\": \"mileage\",\n      \"properties\": {\n        \"dtype\": \"number\",\n        \"std\": 4.179603303255924,\n        \"min\": 4.0,\n        \"max\": 33.54,\n        \"num_unique_values\": 404,\n        \"samples\": [\n          13.68,\n          13.9\n        ],\n        \"semantic_type\": \"\",\n        \"description\": \"\"\n      }\n    },\n    {\n      \"column\": \"engine\",\n      \"properties\": {\n        \"dtype\": \"number\",\n        \"std\": 524,\n        \"min\": 793,\n        \"max\": 6592,\n        \"num_unique_values\": 110,\n        \"samples\": [\n          3198,\n          2523\n        ],\n        \"semantic_type\": \"\",\n        \"description\": \"\"\n      }\n    },\n    {\n      \"column\": \"max_power\",\n      \"properties\": {\n        \"dtype\": \"number\",\n        \"std\": 43.10668378189668,\n        \"min\": 38.4,\n        \"max\": 626.0,\n        \"num_unique_values\": 327,\n        \"samples\": [\n          104.5,\n          47.0\n        ],\n        \"semantic_type\": \"\",\n        \"description\": \"\"\n      }\n    },\n    {\n      \"column\": \"seats\",\n      \"properties\": {\n        \"dtype\": \"number\",\n        \"std\": 0,\n        \"min\": 0,\n        \"max\": 9,\n        \"num_unique_values\": 8,\n        \"samples\": [\n          7,\n          8\n        ],\n        \"semantic_type\": \"\",\n        \"description\": \"\"\n      }\n    }\n  ]\n}"
            }
          },
          "metadata": {},
          "execution_count": 11
        }
      ],
      "source": [
        "X_train.head()"
      ]
    },
    {
      "cell_type": "code",
      "execution_count": 12,
      "metadata": {
        "id": "M7vzyUSYwBvh"
      },
      "outputs": [],
      "source": [
        "X_train = ct.fit_transform(X_train)\n",
        "X_test = ct.transform(X_test)"
      ]
    },
    {
      "cell_type": "markdown",
      "metadata": {
        "id": "90IvpBvYwJEe"
      },
      "source": [
        "# **Model Training**"
      ]
    },
    {
      "cell_type": "code",
      "source": [
        "pip install xgboost"
      ],
      "metadata": {
        "colab": {
          "base_uri": "https://localhost:8080/"
        },
        "id": "l2OXJE-izbpD",
        "outputId": "f6e2cac0-28db-4497-a26e-d40c8690c44c"
      },
      "execution_count": 13,
      "outputs": [
        {
          "output_type": "stream",
          "name": "stdout",
          "text": [
            "Requirement already satisfied: xgboost in /usr/local/lib/python3.10/dist-packages (2.1.1)\n",
            "Requirement already satisfied: numpy in /usr/local/lib/python3.10/dist-packages (from xgboost) (1.26.4)\n",
            "Requirement already satisfied: nvidia-nccl-cu12 in /usr/local/lib/python3.10/dist-packages (from xgboost) (2.22.3)\n",
            "Requirement already satisfied: scipy in /usr/local/lib/python3.10/dist-packages (from xgboost) (1.13.1)\n"
          ]
        }
      ]
    },
    {
      "cell_type": "code",
      "execution_count": 14,
      "metadata": {
        "id": "PPz7D2wWwD7I"
      },
      "outputs": [],
      "source": [
        "from sklearn.ensemble import RandomForestRegressor\n",
        "from sklearn.tree import DecisionTreeRegressor\n",
        "from sklearn.linear_model import LinearRegression, Lasso, Ridge\n",
        "from sklearn.neighbors import KNeighborsRegressor\n",
        "from sklearn.ensemble import AdaBoostRegressor\n",
        "from sklearn.ensemble import GradientBoostingRegressor\n",
        "from xgboost import XGBRegressor\n",
        "\n",
        "models = {\n",
        "    'LR' : LinearRegression(),\n",
        "    'Lasso' : Lasso(),\n",
        "    'Ridge' : Ridge(),\n",
        "    'KNN' : KNeighborsRegressor(),\n",
        "    'dtr' : DecisionTreeRegressor(),\n",
        "    'rfr' : RandomForestRegressor(),\n",
        "    'adr' : AdaBoostRegressor(),\n",
        "    'gbr' : GradientBoostingRegressor(),\n",
        "    'xgbr': XGBRegressor()\n",
        "}"
      ]
    },
    {
      "cell_type": "code",
      "execution_count": 15,
      "metadata": {
        "colab": {
          "base_uri": "https://localhost:8080/"
        },
        "id": "2JsfmTG9whmX",
        "outputId": "8fa67832-5940-4752-9e04-12aafa6b9066"
      },
      "outputs": [
        {
          "output_type": "stream",
          "name": "stdout",
          "text": [
            "Evaluation of LR model \n",
            "r2_score :  0.6970780390013382\n",
            "mean_absolute_error : \n",
            " 266897.00825787743\n",
            "\n",
            " *********************************************************\n",
            "\n",
            "Evaluation of Lasso model \n",
            "r2_score :  0.6970793416005481\n",
            "mean_absolute_error : \n",
            " 266891.4642698102\n",
            "\n",
            " *********************************************************\n",
            "\n",
            "Evaluation of Ridge model \n",
            "r2_score :  0.6970721732801253\n",
            "mean_absolute_error : \n",
            " 266832.5538440468\n",
            "\n",
            " *********************************************************\n",
            "\n",
            "Evaluation of KNN model \n",
            "r2_score :  0.892950284108542\n",
            "mean_absolute_error : \n",
            " 110745.44275056763\n",
            "\n",
            " *********************************************************\n",
            "\n",
            "Evaluation of dtr model \n",
            "r2_score :  0.8207798177081544\n",
            "mean_absolute_error : \n",
            " 136922.41863985296\n",
            "\n",
            " *********************************************************\n",
            "\n",
            "Evaluation of rfr model \n",
            "r2_score :  0.9185742894450157\n",
            "mean_absolute_error : \n",
            " 104430.9961936917\n",
            "\n",
            " *********************************************************\n",
            "\n",
            "Evaluation of adr model \n",
            "r2_score :  0.6932183340615462\n",
            "mean_absolute_error : \n",
            " 363632.3658793619\n",
            "\n",
            " *********************************************************\n",
            "\n",
            "Evaluation of gbr model \n",
            "r2_score :  0.909324349735583\n",
            "mean_absolute_error : \n",
            " 126295.25916734469\n",
            "\n",
            " *********************************************************\n",
            "\n",
            "Evaluation of xgbr model \n",
            "r2_score :  0.9292460611602015\n",
            "mean_absolute_error : \n",
            " 99799.1415638684\n",
            "\n",
            " *********************************************************\n",
            "\n"
          ]
        }
      ],
      "source": [
        "from sklearn.metrics import r2_score, mean_absolute_error\n",
        "\n",
        "for model_name, model in list(models.items()):\n",
        "  model.fit(X_train, y_train)\n",
        "  y_pred = model.predict(X_test)\n",
        "\n",
        "  print(f\"Evaluation of {model_name} model \")\n",
        "  print('r2_score : ', r2_score(y_test, y_pred))\n",
        "  print('mean_absolute_error : \\n', mean_absolute_error(y_test, y_pred))\n",
        "  print(\"\\n *********************************************************\\n\")"
      ]
    },
    {
      "cell_type": "code",
      "execution_count": 16,
      "metadata": {
        "id": "EH957J-owiOT"
      },
      "outputs": [],
      "source": [
        "rfr_params = {\n",
        "    'n_estimators' : [50, 100, 150, 200],\n",
        "    'criterion' : ['squared_error', 'absolute_error', 'friedman_mse', 'poisson'],\n",
        "    'max_depth' : [2,3,4,5,6,7],\n",
        "}\n",
        "params_xgbr = {\n",
        "    'learning_rate' : [0.1, 0.01],\n",
        "    'max_depth' : [5, 8, 12, 20, 30],\n",
        "    'n_estimators' : [100, 200, 300],\n",
        "    'colsample_bytree' : [0.5, 0.8, 1, 0.3, 0.4]\n",
        "}"
      ]
    },
    {
      "cell_type": "code",
      "execution_count": 17,
      "metadata": {
        "id": "LdI9fev1xweb"
      },
      "outputs": [],
      "source": [
        "models = [\n",
        "    ('rfr', RandomForestRegressor(), rfr_params),\n",
        "    ('xgbr', XGBRegressor(), params_xgbr)\n",
        "]"
      ]
    },
    {
      "cell_type": "code",
      "execution_count": 18,
      "metadata": {
        "colab": {
          "base_uri": "https://localhost:8080/"
        },
        "id": "qYPoEDNLx__Q",
        "outputId": "d23e957d-b31c-4bc4-cab4-6610efe16d48"
      },
      "outputs": [
        {
          "output_type": "stream",
          "name": "stdout",
          "text": [
            "rfr is under going HP tunning\n",
            "Eval o/p\n",
            "{'n_estimators': 100, 'max_depth': 6, 'criterion': 'friedman_mse'}\n",
            "0.8360033449292938\n",
            "Evaluation of rfr model \n",
            "r2 score :  0.8910185083282498\n",
            "mean_absolute_error : \n",
            " 138523.71405548332\n",
            "\n",
            " ******************************************************\n",
            "\n",
            "xgbr is under going HP tunning\n",
            "Eval o/p\n",
            "{'n_estimators': 300, 'max_depth': 8, 'learning_rate': 0.1, 'colsample_bytree': 0.4}\n",
            "0.8639708755900186\n",
            "Evaluation of xgbr model \n",
            "r2 score :  0.9282568020028568\n",
            "mean_absolute_error : \n",
            " 100895.54170647249\n",
            "\n",
            " ******************************************************\n",
            "\n"
          ]
        }
      ],
      "source": [
        "from math import e\n",
        "from sklearn.model_selection import RandomizedSearchCV\n",
        "for name, model, params in models:\n",
        "  print(f'{name} is under going HP tunning')\n",
        "  rscv = RandomizedSearchCV(estimator=model, \\\n",
        "                            param_distributions=params, n_jobs = -1, \\\n",
        "                            refit = True, cv = 5, scoring = 'r2')\n",
        "  rscv.fit(X_train, y_train)\n",
        "  print(\"Eval o/p\")\n",
        "  print(rscv.best_params_)\n",
        "  print(rscv.best_score_)\n",
        "  y_pred = rscv.predict(X_test)\n",
        "\n",
        "  print(f\"Evaluation of {name} model \")\n",
        "  print('r2 score : ', r2_score(y_test, y_pred))\n",
        "  print('mean_absolute_error : \\n', mean_absolute_error(y_test, y_pred))\n",
        "  print(\"\\n ******************************************************\\n\")\n"
      ]
    },
    {
      "cell_type": "code",
      "source": [],
      "metadata": {
        "id": "FBfwKvRA0E1u"
      },
      "execution_count": null,
      "outputs": []
    }
  ]
}