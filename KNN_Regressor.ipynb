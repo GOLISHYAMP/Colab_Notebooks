{
  "nbformat": 4,
  "nbformat_minor": 0,
  "metadata": {
    "colab": {
      "provenance": [],
      "authorship_tag": "ABX9TyPSk6YTN0/Ub8dVqKi0MGhO",
      "include_colab_link": true
    },
    "kernelspec": {
      "name": "python3",
      "display_name": "Python 3"
    },
    "language_info": {
      "name": "python"
    }
  },
  "cells": [
    {
      "cell_type": "markdown",
      "metadata": {
        "id": "view-in-github",
        "colab_type": "text"
      },
      "source": [
        "<a href=\"https://colab.research.google.com/github/GOLISHYAMP/Colab_Notebooks/blob/main/KNN_Regressor.ipynb\" target=\"_parent\"><img src=\"https://colab.research.google.com/assets/colab-badge.svg\" alt=\"Open In Colab\"/></a>"
      ]
    },
    {
      "cell_type": "code",
      "execution_count": 1,
      "metadata": {
        "id": "_77rIIsOMPrC"
      },
      "outputs": [],
      "source": [
        "import numpy as np\n",
        "import pandas as pd\n",
        "import matplotlib.pyplot as plt\n",
        "import seaborn as sns"
      ]
    },
    {
      "cell_type": "code",
      "source": [
        "from sklearn.datasets import make_regression\n",
        "X,y = make_regression(n_samples= 1000, n_features = 2,noise = 10, random_state=31)"
      ],
      "metadata": {
        "id": "0lryvLiWruh4"
      },
      "execution_count": 3,
      "outputs": []
    },
    {
      "cell_type": "code",
      "source": [
        "X"
      ],
      "metadata": {
        "colab": {
          "base_uri": "https://localhost:8080/"
        },
        "id": "qWxSeUumsGGl",
        "outputId": "0f813103-1615-4c97-8429-9455bbc4b2ab"
      },
      "execution_count": 4,
      "outputs": [
        {
          "output_type": "execute_result",
          "data": {
            "text/plain": [
              "array([[-0.16510139, -0.85347582],\n",
              "       [ 1.25912004, -0.79600886],\n",
              "       [-0.5952629 , -1.78270064],\n",
              "       ...,\n",
              "       [ 0.24729801, -0.33856649],\n",
              "       [ 1.19155296,  0.81087328],\n",
              "       [ 1.78892047, -0.3711012 ]])"
            ]
          },
          "metadata": {},
          "execution_count": 4
        }
      ]
    },
    {
      "cell_type": "code",
      "source": [
        "y"
      ],
      "metadata": {
        "colab": {
          "base_uri": "https://localhost:8080/"
        },
        "id": "xMfpYPgUsJgl",
        "outputId": "2f245760-7b8c-42bb-cd4f-16fe8393f57a"
      },
      "execution_count": 5,
      "outputs": [
        {
          "output_type": "execute_result",
          "data": {
            "text/plain": [
              "array([ -36.13482373,   92.77010136, -101.68107919,  141.92629567,\n",
              "        -25.87815275,  144.63399085,   33.84611868,  -23.30105458,\n",
              "         63.65960726,  -57.41092107,   27.11123065,   -8.02573051,\n",
              "        102.4994528 ,   -1.50473435, -104.0112414 ,   65.52561203,\n",
              "         -6.98271525,  159.89032742,   91.34554688,  -19.9270443 ,\n",
              "       -102.93148155,   32.74329223,   75.50508777,   20.0060409 ,\n",
              "         73.50754553,  -73.06948392,   43.20272469,  -63.19866347,\n",
              "          3.18538584,   75.75374063,   31.17416421,  -26.98421866,\n",
              "        -12.83480679,   89.94017359,  -42.24873116,    0.55312418,\n",
              "         73.05802131,   40.35722378,   48.69526757,   16.98456292,\n",
              "         64.81717083,  -63.4660753 , -107.23223992,  276.36515691,\n",
              "         41.10946154,   29.43006952,  136.21530451,  -89.63804885,\n",
              "        132.18984977,   40.50982919,   33.15691783,  -68.1729051 ,\n",
              "         96.4844488 ,   36.14500016,   20.05187085, -116.96207759,\n",
              "         -3.68322572,  -66.96740737,  -61.68816687, -118.62727966,\n",
              "        -40.89985155,  -73.56511244,  128.99112704,  -53.90688288,\n",
              "        -90.19099851,   77.27649895,   26.70844959,   46.97342799,\n",
              "         30.44547842,   17.70937353,   -4.43250347,   -0.77480435,\n",
              "        -29.50516519,   34.12945352,  -17.23735709,  -53.45064405,\n",
              "         -4.28387939,   49.23201125,  -56.51974759,   64.94688311,\n",
              "         50.24700604,  -90.55641513,   -2.14577479,  -42.73531088,\n",
              "        -21.15336512, -140.89666474,   59.50282334,   13.1322488 ,\n",
              "         34.99745456,  -95.7668615 , -144.88053411,    4.81218756,\n",
              "         95.43702638,   94.43869619,   15.90101443,  218.37765548,\n",
              "         89.29896153,  -23.69531928,  -93.15446267,   15.4223618 ,\n",
              "        -51.00116687,  -19.02132183,  -83.96668489,   29.61035781,\n",
              "         44.06552298, -158.97527648,   31.98789479,  -86.37970516,\n",
              "        -26.3166712 ,    5.17796552,  103.88003258,   89.32959827,\n",
              "         -6.04161703,   88.28662694,  -42.22075516,   13.51163971,\n",
              "         30.81067934,  -54.32714431,  -11.9938767 ,   37.83099316,\n",
              "        152.28242709,  -57.33345736,  -10.37185604,  -23.53485246,\n",
              "        172.11734195,   59.33489318, -123.0576261 ,  216.72234125,\n",
              "        -26.67524426,  -30.52195755,  -82.31007529,    2.13088296,\n",
              "         26.37477639,  128.00138768,   32.53501153, -115.39235668,\n",
              "       -154.23404128,  -93.41681716,  108.65439331, -192.63554503,\n",
              "       -120.55869362, -149.58522704,   78.86711433,  104.8288497 ,\n",
              "        -78.10766182,  120.46335251,  -14.67566662,  -33.07838663,\n",
              "         38.51960097,   46.41197696,  -89.20147672,   -3.32879535,\n",
              "         37.46663911,    5.95868157,   42.39552339,  -53.95790668,\n",
              "         54.24174083,  110.30896423,   15.01402829,  -35.54909329,\n",
              "          1.97157712, -149.94926945,  -67.82219915,  192.24337785,\n",
              "         58.92262358,  -24.16076367,   62.55363385,   87.76989227,\n",
              "          9.6435309 ,   48.48453765,  154.45737081,  -48.79643218,\n",
              "         56.5478083 , -134.98735789,    3.42887974,  -88.33734204,\n",
              "         -3.20444602,   30.03997926,   73.77919019,   71.51495311,\n",
              "        147.19263001,   30.5428014 ,  259.73141387,  -24.01048293,\n",
              "        -43.81679005,   16.24380976,  -80.06381565,   84.26418947,\n",
              "          0.3737939 ,  -80.07805901,   64.04979917,   87.02591893,\n",
              "         24.5248405 ,   68.13691674,  -35.910203  ,   24.96482084,\n",
              "        -22.07980402,  -32.38442863,    2.91469314,   59.53960864,\n",
              "         45.12632046,   44.06280403,  -85.62162637,  -24.14377778,\n",
              "       -101.68980017,  -34.81928895,   77.09318274,  -26.26216767,\n",
              "        -28.30992487,   64.80689509,   36.2961483 ,   23.6378792 ,\n",
              "        -54.69404736,   40.56737221,   24.21189756,  -36.33446985,\n",
              "        -88.84402906,  127.6574292 ,  -89.79353066, -112.49218987,\n",
              "         19.62516269,  167.84524288,  -61.02169124, -120.86784317,\n",
              "         78.16352624,  -63.40711519,   19.15470494, -133.60449709,\n",
              "         28.83691534,  -33.00849204,  -81.69844541,    4.94301744,\n",
              "        -33.99123927, -110.21200233, -101.93993781,   -3.59521543,\n",
              "       -125.00983938,   86.31061766,  -68.36020407,  -73.30212039,\n",
              "          0.58803256,  -16.59319501,  -36.43283061,   53.64688682,\n",
              "         91.23750742,  -47.28968421,  106.78099367,   -1.80486589,\n",
              "        -34.82701106,  112.10121904,   71.82324763,  -16.03325164,\n",
              "        -80.89750172,   36.24964501,  -25.03117191,   29.78644214,\n",
              "         41.11721847,   22.63539024,   46.6193482 ,  -29.95373292,\n",
              "        -49.22960332,  -51.59068887,  -62.15097565,   21.07490215,\n",
              "       -111.4957123 ,    7.88302829,   34.27964346,  -86.21176585,\n",
              "         -4.59617424,    3.74194921,   69.70798817,   -4.64651825,\n",
              "        115.43791892,   78.87374456,  -39.52676647,  186.78457493,\n",
              "        -85.54592433,   90.48608405,  -39.03815941,   69.35045475,\n",
              "         -1.74990295,   72.95830284,  -64.92048455,  151.16565768,\n",
              "         63.74106025,  -42.69971073,  -41.50522261,   18.0521588 ,\n",
              "        -29.07286891,  116.69426858,   48.36542373,  -35.27390999,\n",
              "        -62.27536724,    1.60121484,  -38.91301107, -160.97350971,\n",
              "        -19.77032599,   31.25013493,   55.11475932,  115.74554443,\n",
              "         42.01837961,   -3.59205026,  131.93050888, -126.19762289,\n",
              "          5.38000923,   71.35317309,  130.37393524,   27.90532987,\n",
              "         72.42045206,   56.87714847,   -8.05299894,   26.96618227,\n",
              "       -178.239519  ,  -39.80620863,  -48.04310233,  -20.91438072,\n",
              "        -28.54462527,   64.9720529 ,   13.9945436 ,   -6.65256555,\n",
              "          9.30235372,  166.46408618,   10.94469255,   -2.44584344,\n",
              "         -7.94849827,  175.48596695, -101.58880342, -129.15035787,\n",
              "          6.66513129,   22.7177451 ,    0.50462995,  -85.95828803,\n",
              "        -43.12468656,  -72.10452767,   19.62337643,  -52.61827243,\n",
              "       -167.09425468, -141.64181142,  -81.00392536, -112.46438165,\n",
              "        154.23655754,  148.38216281,   97.44090677,  -18.05729037,\n",
              "         50.80892532, -176.54385128,  179.98088384,  -84.74286384,\n",
              "        -57.38453665,  -76.53496144, -187.02955591,   71.71018885,\n",
              "        109.84778603,  -68.85792519,  105.66296485,   15.96348917,\n",
              "        -27.47367017,   81.52470219,  121.29136766,   21.66972848,\n",
              "         30.00927786,   68.07707405,    5.15301735,   66.88578544,\n",
              "        -25.50801852,  -66.83488178,  -30.15222137,  -61.77511353,\n",
              "         41.10442299, -150.59470822,    5.32057511,   46.93515778,\n",
              "         12.41925056,  -84.5796786 ,  -34.95246382,   29.86170786,\n",
              "        -23.45027303,  -11.78887011,   33.33112775,  129.23678221,\n",
              "          6.99492794,  -68.51835174,   55.93378939,   37.20597443,\n",
              "         48.17809255,   26.21661826,  -37.16390096,   59.45286964,\n",
              "         -6.25095833,  -86.94220143,   75.69139972, -158.56844217,\n",
              "        139.29891485,  -39.29377051,  -97.00455171,  -53.74849549,\n",
              "          9.64144332,  -58.75615856,  -94.76334266,  154.58378928,\n",
              "        -95.63067056,  -54.05161949,  -84.20101664,  148.92976679,\n",
              "         30.08923388, -124.63209937,    2.78726962, -176.44039696,\n",
              "       -209.20856352,  -15.80450669,   58.75112257,  -89.14810585,\n",
              "        187.43827174,   53.85106132,   81.4902443 ,   18.25694255,\n",
              "         62.56363429,  -97.40008728,  -32.33267141,   90.00773735,\n",
              "          2.52816438, -188.85898519,    8.10321059,  -48.53589496,\n",
              "         66.64328272,  147.24622137,   74.00780293,  -41.78744263,\n",
              "        -32.44296677,   -7.11980689,   16.58428485,  -24.9737216 ,\n",
              "         85.90504052,   23.23932162,   88.67652306,  135.0456411 ,\n",
              "         97.40911132,   63.98605292,   76.47861174,   35.10339767,\n",
              "        -68.25124861,   20.44682082,  -69.31116123, -109.42514624,\n",
              "        -28.80199008,  -53.71417012,   41.94138393,  -16.76060217,\n",
              "        -27.60343734,  -13.49489195,  -67.18209743,  101.79150711,\n",
              "          1.80388796,   81.24804465, -100.53615216, -175.6825544 ,\n",
              "         33.57285861,   79.79361879,  -28.94007579,  216.86493264,\n",
              "         18.5632597 ,   -7.09934367,   35.91192833,    1.395447  ,\n",
              "         55.87713385,  -30.61901148,   38.20493698,    5.99505298,\n",
              "         46.42719837,  -64.88395884,   -1.22851368,  116.41675334,\n",
              "       -163.83880912,  -20.78386933,   49.72430727,  122.90449327,\n",
              "         97.10173074,   60.95889493,    0.5433648 ,  187.68853526,\n",
              "          7.6813857 ,  -40.27542422,  -19.18269799,   -8.39884823,\n",
              "         37.63346734,  100.87285777, -158.38800902,  -29.79850083,\n",
              "         14.96969189,  -47.078367  ,  109.34010256,    0.7885764 ,\n",
              "       -100.63447815, -181.6384784 ,  -85.42977661, -163.8749049 ,\n",
              "        -72.85210756,  131.54526375,  -10.09285672,  104.65723944,\n",
              "         -5.62098243,  226.11463623,   40.08730204,   62.94864392,\n",
              "          2.10545033, -174.24992595,  -35.11419958,  124.45561613,\n",
              "         16.57424453,   94.93117369,  135.14748645,   71.12180972,\n",
              "         26.471432  ,    6.13910527,  -12.73981804,  -73.11061001,\n",
              "        159.06375755,  -34.66068412,   63.69478776,  111.34618161,\n",
              "         88.36777752,  -92.03378278,   80.52715828, -162.14001781,\n",
              "         -6.17820152, -133.19300056,  -95.7738665 ,  -11.00299442,\n",
              "         22.98559597,  105.50742839,   45.89883051,  -54.74479599,\n",
              "        -74.7238261 ,   51.43741299,    7.95841166,   19.82940815,\n",
              "        151.36260593,  -17.49428173,  -84.60853922,   38.66310338,\n",
              "         -2.37246973,  -86.25865129,   82.04997848,  -89.54454121,\n",
              "         35.34256903,  -39.5337049 ,   -3.09543384,  -77.07578712,\n",
              "         -6.78618885,  -21.77166225,  -71.87203849,  -57.33614908,\n",
              "        -49.49865735,  -28.17478091,   55.02810457,  -16.72952331,\n",
              "         90.51836685,  -27.7259126 ,   58.81680958,  128.67592069,\n",
              "         76.02130276,  -10.06255317,  -22.44731623,  -48.78030259,\n",
              "         -7.70409649,   29.18385379, -162.14087931,    2.11079304,\n",
              "         42.93517587,  -30.08081692,   28.72025355,  -66.69997354,\n",
              "        -83.39478845,  -20.80506045, -191.55873141,    9.96232264,\n",
              "         51.84439071, -144.27379126, -109.02327635,   34.10563162,\n",
              "         56.56698272,  -69.45835827,  -22.18410198, -157.64824628,\n",
              "        -11.08441834,   60.40071244,  -23.0784623 ,  -28.16344118,\n",
              "          6.1465871 ,   37.26291584,  -15.35905584, -121.77281633,\n",
              "         24.22499818,  -52.63290761, -181.32024663,  -64.8823952 ,\n",
              "        -48.23246241,  -12.93571063,  129.80887162,  -99.52775188,\n",
              "        -49.2682806 , -165.86331587, -109.66922866,   45.3666736 ,\n",
              "        -21.3153348 ,    7.55580318, -131.81587313,   67.60909897,\n",
              "        -53.33867545,  150.05505779,  -49.87707256,   20.81632999,\n",
              "        171.66830064, -158.36279546,   97.20573529, -141.1180813 ,\n",
              "         40.63530864,  -77.65372418,  102.05849675,  -37.48239657,\n",
              "         30.29379484,   16.93502526,   61.17408548,  -18.84814963,\n",
              "        -53.20665713,  -14.22517852,  -49.74637594,  -43.99773862,\n",
              "         29.06141604,  -11.04970874,  142.31933132,  -62.58904568,\n",
              "         61.83919965,   79.71603921,  -39.06764832,   75.51062841,\n",
              "        -97.95751577, -165.25041318,  -31.30041754,  -73.47269832,\n",
              "        128.10701838,   11.49448462,    7.92876785,  122.14951456,\n",
              "        -25.98872982,  -30.57444362,   72.77971907,  -32.79304964,\n",
              "         74.89408251,   39.35665394,  136.73172295, -152.67420177,\n",
              "         34.69652996,  -80.16679825,  -57.19011518,  147.67695545,\n",
              "        131.38962388,  -70.79971208,   44.2294318 ,  -40.95957488,\n",
              "        -21.23712478, -131.80967749,  142.41959175,   76.73191898,\n",
              "          6.24048659,  -49.40154585,   -9.60192624,  -11.98614298,\n",
              "          1.40919853,   78.46977557,  140.71058339,   -5.99171557,\n",
              "         49.41016403,  -11.709842  ,  -22.67213994,  -55.40584446,\n",
              "         14.08944554,  -57.84780311,   -2.8552951 , -106.89400467,\n",
              "        -21.56186245,  -19.3297968 , -129.5249312 ,   86.89431313,\n",
              "          5.17017701,   23.0851955 ,   51.24413441,  -84.91338566,\n",
              "         24.32352651,  -13.16045564,  111.23392867,   67.49468862,\n",
              "         -0.81253319,  101.20529594,  123.82737559,  -73.97848331,\n",
              "       -200.08278115,   28.99617749,  -46.7226537 ,  152.58801506,\n",
              "        -91.50454049,  -41.59393312,   92.91968796,   42.59657965,\n",
              "        -65.19499324,   48.72368213,  -92.82291688,   71.9535735 ,\n",
              "         78.84886273, -107.31534168,  -38.74141506,  139.87715661,\n",
              "        -87.08180705,  -45.40353668, -108.16359218,  151.40427772,\n",
              "         69.4467328 ,  -34.27088261,   66.86160782,    8.84860578,\n",
              "        210.82404299,   -1.82003199, -158.24411913,    2.10687548,\n",
              "         79.632988  ,  -84.80506977,  -57.38895837, -171.92089068,\n",
              "        -11.80594682,  142.62203124, -113.9321099 ,  -96.9874381 ,\n",
              "        -87.88072593,  -14.10764276,   12.84177986,   50.57821508,\n",
              "          1.39690582,  -41.75742129,  -59.35266759,   -3.21810605,\n",
              "       -202.96812984,   46.30529503,  -93.96761573,  129.34027517,\n",
              "       -120.98128873,   89.01925727,    0.70786034,  -68.9169517 ,\n",
              "         70.66843421,  195.96372939,   58.88417731,   -9.51546362,\n",
              "         -6.36000505, -230.25849068,   22.74737612,   15.92240088,\n",
              "          5.84813193, -102.58437564, -104.20238087, -115.76424203,\n",
              "        -13.63034736,  -62.91342972,  -50.24178507,  -20.57224938,\n",
              "        -43.2597717 ,   56.1204524 ,  -15.31191709, -109.56268987,\n",
              "        -58.74525324, -134.44300256,  -29.01377475,  -79.35075516,\n",
              "         -9.28784141,  -12.82790996,   90.57392141,  -42.71547595,\n",
              "         -2.92352112,  -27.15272257,  -46.01934488,   77.47053329,\n",
              "         24.57927994,   29.65950774,   32.61456257,  -17.58790769,\n",
              "          6.60781411,   97.19577061, -133.25199142,   -2.03530706,\n",
              "         83.52749424,  -25.39842218,  116.92917437,  -34.02927068,\n",
              "        -18.73126677,   70.58748353,   66.6535407 ,   65.81088087,\n",
              "          1.0378768 ,  -58.92338925,  127.05548511,   47.62654916,\n",
              "       -116.49204602, -229.08041848,   86.98155856,  158.67702384,\n",
              "         96.16869274,  -29.79744446,  -68.58350172,   35.31448504,\n",
              "         92.41038276,   64.66877126,   70.19651451,   26.90419918,\n",
              "        120.76586374,  -38.73622295,   -0.74163983,  -11.01676021,\n",
              "       -122.38875173,   41.48629553,  -27.11880786,   52.61676417,\n",
              "        -85.26827327,  123.28332945,   70.95433932,   -8.27438452,\n",
              "       -108.2308652 ,   58.4464899 ,    8.53358475,  -68.44358744,\n",
              "        -78.60836632,  101.12128023,   43.24912185, -136.40626217,\n",
              "         27.44833786,   52.66913851,   65.69040538,   53.99443882,\n",
              "          4.74389894,   85.6442801 , -117.61525924,   25.93708948,\n",
              "         21.38627265,   11.7850255 ,   35.28725599,  107.89974077,\n",
              "       -127.88481279,   17.37036773,  174.66764813,   49.03485104,\n",
              "       -115.0332572 ,    2.88956585,  127.39220913,   51.03098159,\n",
              "        112.87353954, -207.27434641,  165.06458864,   61.65799278,\n",
              "        106.12526764,  -31.14297578,  -37.89697592,   82.37810994,\n",
              "        -85.38056806,   -8.62083388,    4.83439371,   -4.46968045,\n",
              "          7.93581252,   71.07837618,   -7.58819465,   57.61492164,\n",
              "       -113.57746795,  -85.6618566 ,  -47.45982585,    3.00089994,\n",
              "         44.24952118,  -46.71998566,  -55.1398616 ,  -42.87071718,\n",
              "          9.57867826,   63.51550809,   39.10226747, -101.98215968,\n",
              "        -28.45416247,  -82.79361646,   38.62913141,   57.92667654,\n",
              "        -28.37233386,  -23.38480377,   21.91069692,   63.18554499,\n",
              "       -117.41517015, -114.24769094,  -91.84767472,  112.81495343,\n",
              "        -35.86031795,  -54.90595074,  -35.15826683,  -20.56266838,\n",
              "       -115.63027936,  -97.46847096,   83.10743685,  -40.42373056,\n",
              "         36.45420114,   19.81555495,    1.90098159,  -18.5450997 ,\n",
              "        163.60003764, -128.81342665,  180.25103969,    3.59877784,\n",
              "       -101.87376202,  -34.25835842, -110.18517918,    9.56034058,\n",
              "        -79.2451319 , -131.08361834,   62.00308621,   84.37981852,\n",
              "          4.74647822,   18.53211555,   87.58823594,  -54.84841792,\n",
              "        -35.2808385 ,   80.05770482,  -36.51165182, -107.39846756,\n",
              "        109.22386846,  -96.0029293 ,   10.25938412,  -96.88897425,\n",
              "         81.96087057,   94.52777247,  157.14751535,   -7.9502055 ,\n",
              "         -0.70679541,    2.95602982,  -26.79402714, -152.34589545,\n",
              "         60.51741401, -139.57626455,   49.42813201,  -43.78677425,\n",
              "        -34.00280591,   26.28349613,   51.38552405,   28.38537325,\n",
              "         54.30638001, -139.00768635,   95.94582226,  -47.26441538,\n",
              "        -34.36037854,  -29.58676651,  -45.44168402,  100.87963551,\n",
              "         75.05381809,   64.02251351,   18.19896877,  132.04896539,\n",
              "        -40.27608181,  -39.52775741,   89.76240669,   13.99230988,\n",
              "         -5.43977762,   94.91609485,  -18.96675633,  -53.0879482 ,\n",
              "          4.82686642,   70.70412842, -121.8883601 ,   69.83260471,\n",
              "       -229.39305174,  -49.78963387,   45.76308257,   -3.07951672,\n",
              "        -31.89990773, -205.35296057,  -34.85554861,   92.03656769,\n",
              "        -66.64114882,  134.98048156,   40.48533494,  -65.96409897,\n",
              "       -111.74677768, -136.51422986, -105.08577179,  -92.00099879,\n",
              "       -136.86624416,  -22.55521211,   26.67190406,  -25.27678554,\n",
              "         44.34150471,   49.41141163,  112.02939884,   31.9619824 ,\n",
              "        124.01937723,  -49.83960485,  136.37333765,  180.61590272,\n",
              "         15.59869347,   20.62638913,  121.79411878,  122.2831893 ])"
            ]
          },
          "metadata": {},
          "execution_count": 5
        }
      ]
    },
    {
      "cell_type": "code",
      "source": [
        "sns.scatterplot(x=X[:, 0], y = X[:, 1])"
      ],
      "metadata": {
        "colab": {
          "base_uri": "https://localhost:8080/",
          "height": 448
        },
        "id": "FpCr5V7dsKY1",
        "outputId": "51da54cd-0728-4237-a83e-ad42c623ed5c"
      },
      "execution_count": 6,
      "outputs": [
        {
          "output_type": "execute_result",
          "data": {
            "text/plain": [
              "<Axes: >"
            ]
          },
          "metadata": {},
          "execution_count": 6
        },
        {
          "output_type": "display_data",
          "data": {
            "text/plain": [
              "<Figure size 640x480 with 1 Axes>"
            ],
            "image/png": "[encoded data removed]"
          },
          "metadata": {}
        }
      ]
    },
    {
      "cell_type": "code",
      "source": [
        "from sklearn.model_selection import train_test_split\n",
        "X_train, X_test, y_train, y_test = train_test_split(X, y, test_size=0.3, random_state=31)"
      ],
      "metadata": {
        "id": "lOE9vynksTof"
      },
      "execution_count": 7,
      "outputs": []
    },
    {
      "cell_type": "code",
      "source": [
        "from sklearn.neighbors import KNeighborsRegressor\n",
        "knr = KNeighborsRegressor()\n",
        "knr.fit(X_train, y_train)"
      ],
      "metadata": {
        "colab": {
          "base_uri": "https://localhost:8080/",
          "height": 74
        },
        "id": "PF5oD4DGs_8u",
        "outputId": "c191a2eb-4f7c-488c-a3b8-38689b71eea8"
      },
      "execution_count": 8,
      "outputs": [
        {
          "output_type": "execute_result",
          "data": {
            "text/plain": [
              "KNeighborsRegressor()"
            ],
            "text/html": [
              "<style>#sk-container-id-1 {color: black;}#sk-container-id-1 pre{padding: 0;}#sk-container-id-1 div.sk-toggleable {background-color: white;}#sk-container-id-1 label.sk-toggleable__label {cursor: pointer;display: block;width: 100%;margin-bottom: 0;padding: 0.3em;box-sizing: border-box;text-align: center;}#sk-container-id-1 label.sk-toggleable__label-arrow:before {content: \"▸\";float: left;margin-right: 0.25em;color: #696969;}#sk-container-id-1 label.sk-toggleable__label-arrow:hover:before {color: black;}#sk-container-id-1 div.sk-estimator:hover label.sk-toggleable__label-arrow:before {color: black;}#sk-container-id-1 div.sk-toggleable__content {max-height: 0;max-width: 0;overflow: hidden;text-align: left;background-color: #f0f8ff;}#sk-container-id-1 div.sk-toggleable__content pre {margin: 0.2em;color: black;border-radius: 0.25em;background-color: #f0f8ff;}#sk-container-id-1 input.sk-toggleable__control:checked~div.sk-toggleable__content {max-height: 200px;max-width: 100%;overflow: auto;}#sk-container-id-1 input.sk-toggleable__control:checked~label.sk-toggleable__label-arrow:before {content: \"▾\";}#sk-container-id-1 div.sk-estimator input.sk-toggleable__control:checked~label.sk-toggleable__label {background-color: #d4ebff;}#sk-container-id-1 div.sk-label input.sk-toggleable__control:checked~label.sk-toggleable__label {background-color: #d4ebff;}#sk-container-id-1 input.sk-hidden--visually {border: 0;clip: rect(1px 1px 1px 1px);clip: rect(1px, 1px, 1px, 1px);height: 1px;margin: -1px;overflow: hidden;padding: 0;position: absolute;width: 1px;}#sk-container-id-1 div.sk-estimator {font-family: monospace;background-color: #f0f8ff;border: 1px dotted black;border-radius: 0.25em;box-sizing: border-box;margin-bottom: 0.5em;}#sk-container-id-1 div.sk-estimator:hover {background-color: #d4ebff;}#sk-container-id-1 div.sk-parallel-item::after {content: \"\";width: 100%;border-bottom: 1px solid gray;flex-grow: 1;}#sk-container-id-1 div.sk-label:hover label.sk-toggleable__label {background-color: #d4ebff;}#sk-container-id-1 div.sk-serial::before {content: \"\";position: absolute;border-left: 1px solid gray;box-sizing: border-box;top: 0;bottom: 0;left: 50%;z-index: 0;}#sk-container-id-1 div.sk-serial {display: flex;flex-direction: column;align-items: center;background-color: white;padding-right: 0.2em;padding-left: 0.2em;position: relative;}#sk-container-id-1 div.sk-item {position: relative;z-index: 1;}#sk-container-id-1 div.sk-parallel {display: flex;align-items: stretch;justify-content: center;background-color: white;position: relative;}#sk-container-id-1 div.sk-item::before, #sk-container-id-1 div.sk-parallel-item::before {content: \"\";position: absolute;border-left: 1px solid gray;box-sizing: border-box;top: 0;bottom: 0;left: 50%;z-index: -1;}#sk-container-id-1 div.sk-parallel-item {display: flex;flex-direction: column;z-index: 1;position: relative;background-color: white;}#sk-container-id-1 div.sk-parallel-item:first-child::after {align-self: flex-end;width: 50%;}#sk-container-id-1 div.sk-parallel-item:last-child::after {align-self: flex-start;width: 50%;}#sk-container-id-1 div.sk-parallel-item:only-child::after {width: 0;}#sk-container-id-1 div.sk-dashed-wrapped {border: 1px dashed gray;margin: 0 0.4em 0.5em 0.4em;box-sizing: border-box;padding-bottom: 0.4em;background-color: white;}#sk-container-id-1 div.sk-label label {font-family: monospace;font-weight: bold;display: inline-block;line-height: 1.2em;}#sk-container-id-1 div.sk-label-container {text-align: center;}#sk-container-id-1 div.sk-container {/* jupyter's `normalize.less` sets `[hidden] { display: none; }` but bootstrap.min.css set `[hidden] { display: none !important; }` so we also need the `!important` here to be able to override the default hidden behavior on the sphinx rendered scikit-learn.org. See: https://github.com/scikit-learn/scikit-learn/issues/21755 */display: inline-block !important;position: relative;}#sk-container-id-1 div.sk-text-repr-fallback {display: none;}</style><div id=\"sk-container-id-1\" class=\"sk-top-container\"><div class=\"sk-text-repr-fallback\"><pre>KNeighborsRegressor()</pre><b>In a Jupyter environment, please rerun this cell to show the HTML representation or trust the notebook. <br />On GitHub, the HTML representation is unable to render, please try loading this page with nbviewer.org.</b></div><div class=\"sk-container\" hidden><div class=\"sk-item\"><div class=\"sk-estimator sk-toggleable\"><input class=\"sk-toggleable__control sk-hidden--visually\" id=\"sk-estimator-id-1\" type=\"checkbox\" checked><label for=\"sk-estimator-id-1\" class=\"sk-toggleable__label sk-toggleable__label-arrow\">KNeighborsRegressor</label><div class=\"sk-toggleable__content\"><pre>KNeighborsRegressor()</pre></div></div></div></div></div>"
            ]
          },
          "metadata": {},
          "execution_count": 8
        }
      ]
    },
    {
      "cell_type": "code",
      "source": [
        "y_pred = knr.predict(X_test)"
      ],
      "metadata": {
        "id": "0LJIJ9mQtICB"
      },
      "execution_count": 10,
      "outputs": []
    },
    {
      "cell_type": "code",
      "source": [
        "from sklearn.metrics import r2_score, mean_squared_error\n",
        "print(r2_score(y_test, y_pred))\n",
        "print(mean_squared_error(y_test, y_pred))"
      ],
      "metadata": {
        "colab": {
          "base_uri": "https://localhost:8080/"
        },
        "id": "Yr0Ft6j-tLO5",
        "outputId": "a0113641-2ab4-49c7-d453-158e7226233e"
      },
      "execution_count": 11,
      "outputs": [
        {
          "output_type": "stream",
          "name": "stdout",
          "text": [
            "0.9720711440920935\n",
            "191.52600183908217\n"
          ]
        }
      ]
    },
    {
      "cell_type": "code",
      "source": [
        "params = {\n",
        "    'n_neighbors':[2,3,4,5,6,7,8],\n",
        "    'weights' : ['uniform','distance'],\n",
        "    'algorithm' : ['auto', 'ball_tree', 'kd_tree', 'brute'],\n",
        "    'p' : [1, 2]\n",
        "}"
      ],
      "metadata": {
        "id": "dgjKiuEKtZn0"
      },
      "execution_count": 13,
      "outputs": []
    },
    {
      "cell_type": "code",
      "source": [
        "from sklearn.model_selection import GridSearchCV\n",
        "grid = GridSearchCV(estimator = KNeighborsRegressor(), param_grid = params, scoring = 'r2', refit = True, n_jobs=-1, cv = 5 )\n",
        ""
      ],
      "metadata": {
        "id": "2hxWWqNjtj18"
      },
      "execution_count": 14,
      "outputs": []
    },
    {
      "cell_type": "code",
      "source": [
        "grid.fit(X_train, y_train)"
      ],
      "metadata": {
        "colab": {
          "base_uri": "https://localhost:8080/",
          "height": 116
        },
        "id": "s76f1AKUtwIn",
        "outputId": "81567084-9c11-4968-b5f6-eb5b4e9003b3"
      },
      "execution_count": 15,
      "outputs": [
        {
          "output_type": "execute_result",
          "data": {
            "text/plain": [
              "GridSearchCV(cv=5, estimator=KNeighborsRegressor(), n_jobs=-1,\n",
              "             param_grid={'algorithm': ['auto', 'ball_tree', 'kd_tree', 'brute'],\n",
              "                         'n_neighbors': [2, 3, 4, 5, 6, 7, 8], 'p': [1, 2],\n",
              "                         'weights': ['uniform', 'distance']},\n",
              "             scoring='r2')"
            ],
            "text/html": [
              "<style>#sk-container-id-2 {color: black;}#sk-container-id-2 pre{padding: 0;}#sk-container-id-2 div.sk-toggleable {background-color: white;}#sk-container-id-2 label.sk-toggleable__label {cursor: pointer;display: block;width: 100%;margin-bottom: 0;padding: 0.3em;box-sizing: border-box;text-align: center;}#sk-container-id-2 label.sk-toggleable__label-arrow:before {content: \"▸\";float: left;margin-right: 0.25em;color: #696969;}#sk-container-id-2 label.sk-toggleable__label-arrow:hover:before {color: black;}#sk-container-id-2 div.sk-estimator:hover label.sk-toggleable__label-arrow:before {color: black;}#sk-container-id-2 div.sk-toggleable__content {max-height: 0;max-width: 0;overflow: hidden;text-align: left;background-color: #f0f8ff;}#sk-container-id-2 div.sk-toggleable__content pre {margin: 0.2em;color: black;border-radius: 0.25em;background-color: #f0f8ff;}#sk-container-id-2 input.sk-toggleable__control:checked~div.sk-toggleable__content {max-height: 200px;max-width: 100%;overflow: auto;}#sk-container-id-2 input.sk-toggleable__control:checked~label.sk-toggleable__label-arrow:before {content: \"▾\";}#sk-container-id-2 div.sk-estimator input.sk-toggleable__control:checked~label.sk-toggleable__label {background-color: #d4ebff;}#sk-container-id-2 div.sk-label input.sk-toggleable__control:checked~label.sk-toggleable__label {background-color: #d4ebff;}#sk-container-id-2 input.sk-hidden--visually {border: 0;clip: rect(1px 1px 1px 1px);clip: rect(1px, 1px, 1px, 1px);height: 1px;margin: -1px;overflow: hidden;padding: 0;position: absolute;width: 1px;}#sk-container-id-2 div.sk-estimator {font-family: monospace;background-color: #f0f8ff;border: 1px dotted black;border-radius: 0.25em;box-sizing: border-box;margin-bottom: 0.5em;}#sk-container-id-2 div.sk-estimator:hover {background-color: #d4ebff;}#sk-container-id-2 div.sk-parallel-item::after {content: \"\";width: 100%;border-bottom: 1px solid gray;flex-grow: 1;}#sk-container-id-2 div.sk-label:hover label.sk-toggleable__label {background-color: #d4ebff;}#sk-container-id-2 div.sk-serial::before {content: \"\";position: absolute;border-left: 1px solid gray;box-sizing: border-box;top: 0;bottom: 0;left: 50%;z-index: 0;}#sk-container-id-2 div.sk-serial {display: flex;flex-direction: column;align-items: center;background-color: white;padding-right: 0.2em;padding-left: 0.2em;position: relative;}#sk-container-id-2 div.sk-item {position: relative;z-index: 1;}#sk-container-id-2 div.sk-parallel {display: flex;align-items: stretch;justify-content: center;background-color: white;position: relative;}#sk-container-id-2 div.sk-item::before, #sk-container-id-2 div.sk-parallel-item::before {content: \"\";position: absolute;border-left: 1px solid gray;box-sizing: border-box;top: 0;bottom: 0;left: 50%;z-index: -1;}#sk-container-id-2 div.sk-parallel-item {display: flex;flex-direction: column;z-index: 1;position: relative;background-color: white;}#sk-container-id-2 div.sk-parallel-item:first-child::after {align-self: flex-end;width: 50%;}#sk-container-id-2 div.sk-parallel-item:last-child::after {align-self: flex-start;width: 50%;}#sk-container-id-2 div.sk-parallel-item:only-child::after {width: 0;}#sk-container-id-2 div.sk-dashed-wrapped {border: 1px dashed gray;margin: 0 0.4em 0.5em 0.4em;box-sizing: border-box;padding-bottom: 0.4em;background-color: white;}#sk-container-id-2 div.sk-label label {font-family: monospace;font-weight: bold;display: inline-block;line-height: 1.2em;}#sk-container-id-2 div.sk-label-container {text-align: center;}#sk-container-id-2 div.sk-container {/* jupyter's `normalize.less` sets `[hidden] { display: none; }` but bootstrap.min.css set `[hidden] { display: none !important; }` so we also need the `!important` here to be able to override the default hidden behavior on the sphinx rendered scikit-learn.org. See: https://github.com/scikit-learn/scikit-learn/issues/21755 */display: inline-block !important;position: relative;}#sk-container-id-2 div.sk-text-repr-fallback {display: none;}</style><div id=\"sk-container-id-2\" class=\"sk-top-container\"><div class=\"sk-text-repr-fallback\"><pre>GridSearchCV(cv=5, estimator=KNeighborsRegressor(), n_jobs=-1,\n",
              "             param_grid={&#x27;algorithm&#x27;: [&#x27;auto&#x27;, &#x27;ball_tree&#x27;, &#x27;kd_tree&#x27;, &#x27;brute&#x27;],\n",
              "                         &#x27;n_neighbors&#x27;: [2, 3, 4, 5, 6, 7, 8], &#x27;p&#x27;: [1, 2],\n",
              "                         &#x27;weights&#x27;: [&#x27;uniform&#x27;, &#x27;distance&#x27;]},\n",
              "             scoring=&#x27;r2&#x27;)</pre><b>In a Jupyter environment, please rerun this cell to show the HTML representation or trust the notebook. <br />On GitHub, the HTML representation is unable to render, please try loading this page with nbviewer.org.</b></div><div class=\"sk-container\" hidden><div class=\"sk-item sk-dashed-wrapped\"><div class=\"sk-label-container\"><div class=\"sk-label sk-toggleable\"><input class=\"sk-toggleable__control sk-hidden--visually\" id=\"sk-estimator-id-2\" type=\"checkbox\" ><label for=\"sk-estimator-id-2\" class=\"sk-toggleable__label sk-toggleable__label-arrow\">GridSearchCV</label><div class=\"sk-toggleable__content\"><pre>GridSearchCV(cv=5, estimator=KNeighborsRegressor(), n_jobs=-1,\n",
              "             param_grid={&#x27;algorithm&#x27;: [&#x27;auto&#x27;, &#x27;ball_tree&#x27;, &#x27;kd_tree&#x27;, &#x27;brute&#x27;],\n",
              "                         &#x27;n_neighbors&#x27;: [2, 3, 4, 5, 6, 7, 8], &#x27;p&#x27;: [1, 2],\n",
              "                         &#x27;weights&#x27;: [&#x27;uniform&#x27;, &#x27;distance&#x27;]},\n",
              "             scoring=&#x27;r2&#x27;)</pre></div></div></div><div class=\"sk-parallel\"><div class=\"sk-parallel-item\"><div class=\"sk-item\"><div class=\"sk-label-container\"><div class=\"sk-label sk-toggleable\"><input class=\"sk-toggleable__control sk-hidden--visually\" id=\"sk-estimator-id-3\" type=\"checkbox\" ><label for=\"sk-estimator-id-3\" class=\"sk-toggleable__label sk-toggleable__label-arrow\">estimator: KNeighborsRegressor</label><div class=\"sk-toggleable__content\"><pre>KNeighborsRegressor()</pre></div></div></div><div class=\"sk-serial\"><div class=\"sk-item\"><div class=\"sk-estimator sk-toggleable\"><input class=\"sk-toggleable__control sk-hidden--visually\" id=\"sk-estimator-id-4\" type=\"checkbox\" ><label for=\"sk-estimator-id-4\" class=\"sk-toggleable__label sk-toggleable__label-arrow\">KNeighborsRegressor</label><div class=\"sk-toggleable__content\"><pre>KNeighborsRegressor()</pre></div></div></div></div></div></div></div></div></div></div>"
            ]
          },
          "metadata": {},
          "execution_count": 15
        }
      ]
    },
    {
      "cell_type": "code",
      "source": [
        "grid.best_params_"
      ],
      "metadata": {
        "colab": {
          "base_uri": "https://localhost:8080/"
        },
        "id": "nTeEeHk5t0bc",
        "outputId": "a38af4f2-b8ef-445d-e4f1-c5f49100fc3a"
      },
      "execution_count": 16,
      "outputs": [
        {
          "output_type": "execute_result",
          "data": {
            "text/plain": [
              "{'algorithm': 'brute', 'n_neighbors': 8, 'p': 2, 'weights': 'distance'}"
            ]
          },
          "metadata": {},
          "execution_count": 16
        }
      ]
    },
    {
      "cell_type": "code",
      "source": [
        "grid.best_score_"
      ],
      "metadata": {
        "colab": {
          "base_uri": "https://localhost:8080/"
        },
        "id": "fswxKqxqt3gq",
        "outputId": "3ea7da1b-cf19-43d8-985a-d8af8a8dd10b"
      },
      "execution_count": 17,
      "outputs": [
        {
          "output_type": "execute_result",
          "data": {
            "text/plain": [
              "0.972699008866454"
            ]
          },
          "metadata": {},
          "execution_count": 17
        }
      ]
    },
    {
      "cell_type": "code",
      "source": [
        "y_pred = grid.predict(X_test)"
      ],
      "metadata": {
        "id": "lLYFDyAbt6mL"
      },
      "execution_count": 18,
      "outputs": []
    },
    {
      "cell_type": "code",
      "source": [
        "from sklearn.metrics import r2_score, mean_squared_error\n",
        "print(r2_score(y_test, y_pred))\n",
        "print(mean_squared_error(y_test, y_pred))"
      ],
      "metadata": {
        "colab": {
          "base_uri": "https://localhost:8080/"
        },
        "id": "XZ2zPQiht85g",
        "outputId": "35d99fd2-a76e-47bb-e8a1-4d63f2f67878"
      },
      "execution_count": 19,
      "outputs": [
        {
          "output_type": "stream",
          "name": "stdout",
          "text": [
            "0.974127575403458\n",
            "177.42373898875096\n"
          ]
        }
      ]
    },
    {
      "cell_type": "code",
      "source": [],
      "metadata": {
        "id": "aTvojpaXuAkk"
      },
      "execution_count": null,
      "outputs": []
    }
  ]
}